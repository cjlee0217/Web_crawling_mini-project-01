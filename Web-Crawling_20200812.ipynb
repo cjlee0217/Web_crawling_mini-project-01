{
 "cells": [
  {
   "cell_type": "markdown",
   "metadata": {},
   "source": [
    "# 문제: 보배드림 사이트에서 중고차 100대 정보 추출  \n",
    "  \n",
    "  \n",
    "차량명 인승 마력 연식 연료 주행 가격  \n",
    "  \n",
    "view_size=50  \n",
    "page=2  \n",
    "-> 100개 추출 & 데이터프레임 형태  \n",
    "\n",
    "예)  \n",
    "차량명: 현대 그랜져HG 300 LPG 모던  \n",
    "인승: 5  \n",
    "마력: 235  \n",
    "연식: 15/11  \n",
    "연료: LPG  \n",
    "주행: 20만km  \n",
    "가격: 880만원  "
   ]
  },
  {
   "cell_type": "code",
   "execution_count": 1,
   "metadata": {},
   "outputs": [],
   "source": [
    "from selenium import webdriver\n",
    "from bs4 import BeautifulSoup\n",
    "import pandas as pd\n",
    "import time\n",
    "from tqdm import tqdm_notebook"
   ]
  },
  {
   "cell_type": "markdown",
   "metadata": {},
   "source": [
    "###  한 페이지 & 차량 1대 정보  읽어오기"
   ]
  },
  {
   "cell_type": "code",
   "execution_count": 3,
   "metadata": {},
   "outputs": [],
   "source": [
    "driver = webdriver.Chrome(\"c:/mychrome/chromedriver.exe\")"
   ]
  },
  {
   "cell_type": "code",
   "execution_count": 4,
   "metadata": {},
   "outputs": [],
   "source": [
    "url= \"https://www.bobaedream.co.kr/cyber/CyberCar.php?gubun=K&page=3order=S11&view_size=50\"\n",
    "driver.get(url)"
   ]
  },
  {
   "cell_type": "code",
   "execution_count": 5,
   "metadata": {},
   "outputs": [],
   "source": [
    "html = driver.page_source\n",
    "soup = BeautifulSoup(html, 'html.parser')"
   ]
  },
  {
   "cell_type": "code",
   "execution_count": 6,
   "metadata": {},
   "outputs": [
    {
     "name": "stdout",
     "output_type": "stream",
     "text": [
      "50\n"
     ]
    }
   ],
   "source": [
    "# All 50 products on the page\n",
    "print(len(soup.select(\"li.product-item\")))\n",
    "cars = soup.select(\"li.product-item\")"
   ]
  },
  {
   "cell_type": "code",
   "execution_count": 7,
   "metadata": {},
   "outputs": [],
   "source": [
    "# 1st car\n",
    "car = cars[0]"
   ]
  },
  {
   "cell_type": "code",
   "execution_count": 8,
   "metadata": {},
   "outputs": [
    {
     "data": {
      "text/plain": [
       "'기아 더 뉴 스포티지R 2.0 T-GDI 트렌디'"
      ]
     },
     "execution_count": 8,
     "metadata": {},
     "output_type": "execute_result"
    }
   ],
   "source": [
    "# 차량명\n",
    "car.select(\"p > a\")[0].text"
   ]
  },
  {
   "cell_type": "code",
   "execution_count": 9,
   "metadata": {},
   "outputs": [],
   "source": [
    "# 인승, 마력\n",
    "spec_list = car.select(\"dl.data.clearfix > dd\")\n",
    "capacity = 0\n",
    "hp = 0\n",
    "for spec in spec_list:\n",
    "    s = spec.text.strip()\n",
    "    if '인승' in s:\n",
    "        capacity = s.split('인승')[0]\n",
    "    elif '마력' in s:\n",
    "        hp = s.split('마력')[0]"
   ]
  },
  {
   "cell_type": "code",
   "execution_count": 10,
   "metadata": {},
   "outputs": [],
   "source": [
    "# 연식\n",
    "year = car.select(\"div.mode-cell.year > span\")[0].text.strip().split('(')[0]"
   ]
  },
  {
   "cell_type": "code",
   "execution_count": 11,
   "metadata": {},
   "outputs": [],
   "source": [
    "# 연료\n",
    "fuel = car.select(\"div.mode-cell.fuel > span\")[0].text.strip()"
   ]
  },
  {
   "cell_type": "code",
   "execution_count": 12,
   "metadata": {},
   "outputs": [],
   "source": [
    "# 주행\n",
    "km = car.select(\"div.mode-cell.km > span\")[0].text.strip()"
   ]
  },
  {
   "cell_type": "code",
   "execution_count": 13,
   "metadata": {},
   "outputs": [],
   "source": [
    "# 가격\n",
    "price = car.select(\"div.mode-cell.price\")[0].text.strip().replace('\\n','')"
   ]
  },
  {
   "cell_type": "code",
   "execution_count": 14,
   "metadata": {},
   "outputs": [
    {
     "data": {
      "text/plain": [
       "'1,390만원'"
      ]
     },
     "execution_count": 14,
     "metadata": {},
     "output_type": "execute_result"
    }
   ],
   "source": [
    "price"
   ]
  },
  {
   "cell_type": "markdown",
   "metadata": {},
   "source": [
    "### 100개 차량 정보 읽어오기"
   ]
  },
  {
   "cell_type": "code",
   "execution_count": 17,
   "metadata": {},
   "outputs": [],
   "source": [
    "driver = webdriver.Chrome('c:/mychrome/chromedriver.exe')"
   ]
  },
  {
   "cell_type": "code",
   "execution_count": 18,
   "metadata": {},
   "outputs": [],
   "source": [
    "# 보배드림 사이트 중고차 전체 검색에서 특정 페이지 & viewsize로 읽는 url 함수\n",
    "def get_search_page_url(page, viewsize):\n",
    "    return \"https://www.bobaedream.co.kr/cyber/CyberCar.php?gubun=K&page={}&order=S11&view_size={}\".format(page, viewsize)"
   ]
  },
  {
   "cell_type": "code",
   "execution_count": 19,
   "metadata": {},
   "outputs": [],
   "source": [
    "# 페이지 검색 결과에 대한 차량 정보 추출하는 함수\n",
    "def get_car_items(car_items):\n",
    "    car_data=[]\n",
    "    for car in car_items:\n",
    "        # 차량명\n",
    "        try:\n",
    "            name=car.select(\"p > a\")[0].text.strip()\n",
    "        except:\n",
    "            name=\"\"\n",
    "        # 인승, 마력\n",
    "        try:\n",
    "            spec_list = car.select(\"dl.data.clearfix > dd\")\n",
    "            capacity = 0\n",
    "            hp = 0\n",
    "            for spec in spec_list:\n",
    "                s = spec.text.strip()\n",
    "                if '인승' in s:\n",
    "                    capacity = s.split('인승')[0]\n",
    "                elif '마력' in s:\n",
    "                    hp = s.split('마력')[0]\n",
    "        except:\n",
    "            capacity=\"\"\n",
    "            hp=\"\"\n",
    "        # 연식\n",
    "        try:\n",
    "            year = car.select(\"div.mode-cell.year > span\")[0].text.strip().split('(')[0]\n",
    "        except:\n",
    "            year=\"\"\n",
    "        # 연료\n",
    "        try:\n",
    "            fuel = car.select(\"div.mode-cell.fuel > span\")[0].text.strip()\n",
    "        except:\n",
    "            fuel=\"\"\n",
    "        # 주행\n",
    "        try:\n",
    "            km = car.select(\"div.mode-cell.km > span\")[0].text.strip()\n",
    "        except:\n",
    "            km = \"\"\n",
    "        # 가격\n",
    "        try:\n",
    "            price = car.select(\"div.mode-cell.price\")[0].text.strip().replace('\\n','').replace(',','')\n",
    "        except:\n",
    "            price=\"\"\n",
    "        car_data.append([name,capacity,hp,year,fuel,km,price])\n",
    "    return car_data"
   ]
  },
  {
   "cell_type": "code",
   "execution_count": 20,
   "metadata": {},
   "outputs": [
    {
     "name": "stderr",
     "output_type": "stream",
     "text": [
      "<ipython-input-20-47114bab082f>:6: TqdmDeprecationWarning: This function will be removed in tqdm==5.0.0\n",
      "Please use `tqdm.notebook.tqdm` instead of `tqdm.tqdm_notebook`\n",
      "  for page in tqdm_notebook(range(1, page+1)):\n"
     ]
    },
    {
     "data": {
      "application/vnd.jupyter.widget-view+json": {
       "model_id": "9c351ec77740400b85aedac951d82bd8",
       "version_major": 2,
       "version_minor": 0
      },
      "text/plain": [
       "HBox(children=(FloatProgress(value=0.0, max=2.0), HTML(value='')))"
      ]
     },
     "metadata": {},
     "output_type": "display_data"
    },
    {
     "name": "stdout",
     "output_type": "stream",
     "text": [
      "\n"
     ]
    }
   ],
   "source": [
    "page=2\n",
    "viewsize=50\n",
    "cars_data_total=[]\n",
    "\n",
    "# 진행 상황 출력\n",
    "for page in tqdm_notebook(range(1, page+1)):\n",
    "    # 검색 페이지 이동\n",
    "    url=get_search_page_url(page, viewsize)\n",
    "    driver.get(url)\n",
    "    time.sleep(3)\n",
    "    \n",
    "    # 현재 페이지 html 소스코드 가져오기\n",
    "    html=driver.page_source\n",
    "    soup=BeautifulSoup(html, 'html.parser')\n",
    "    \n",
    "    # 50개 중고차량 정보 추출\n",
    "    cars_items = soup.select(\"li.product-item\")\n",
    "    car_item_list = get_car_items(cars_items)\n",
    "    \n",
    "    # 추출 정보 저장\n",
    "    cars_data_total = cars_data_total + car_item_list"
   ]
  },
  {
   "cell_type": "code",
   "execution_count": 21,
   "metadata": {},
   "outputs": [
    {
     "data": {
      "text/plain": [
       "100"
      ]
     },
     "execution_count": 21,
     "metadata": {},
     "output_type": "execute_result"
    }
   ],
   "source": [
    "len(cars_data_total)"
   ]
  },
  {
   "cell_type": "code",
   "execution_count": 22,
   "metadata": {},
   "outputs": [
    {
     "data": {
      "text/plain": [
       "[['기아 더 뉴 모닝 밴 고급형', '2', '78', '16/09', '가솔린', '7만km', '398만원'],\n",
       " ['맥스 카니발 리무진', '9', '280', '16/12', '가솔린', '5만km', '3490만원'],\n",
       " ['현대 싼타페DM 2.0 VGT 2WD 프리미엄', 0, '184', '15/04', '디젤', '15만km', '1990만원'],\n",
       " ['현대 아반떼AD 1.6 T-GDi 스포츠 M/T', '5', '204', '17/06', '가솔린', '7만km', '1750만원'],\n",
       " ['기아 더 프레스티지 K7 3.0 LPi 프레스티지',\n",
       "  '5',\n",
       "  '235',\n",
       "  '12/03',\n",
       "  'LPG',\n",
       "  '14만km',\n",
       "  '1000만원'],\n",
       " ['현대 포터2 냉동탑차', 0, 0, '19/05', '디젤', '4만km', '2050만원'],\n",
       " ['쉐보레 스파크 LT', '5', '70', '13/10', '가솔린', '3만km', '290만원'],\n",
       " ['현대 제네시스 쿠페 380 GT R', '4', '303', '10/04', '가솔린', '11만km', '690만원'],\n",
       " ['현대 그랜져IG 2.2 e-VGT 프리미엄 스페셜', '5', '202', '17/11', '디젤', '3만km', '3150만원'],\n",
       " ['기아 K3 1.6 GDI 럭셔리', '5', '140', '15/08', '가솔린', '3만km', '920만원'],\n",
       " ['기아 레이 1.0 가솔린 디럭스', '5', '78', '16/09', '가솔린', '12만km', '420만원'],\n",
       " ['기아 K5 2.0 LPi 럭셔리', '5', '144', '11/11', 'LPG', '19만km', '300만원'],\n",
       " ['기아 더 뉴 K5 2.0 트렌디', '5', '172', '14/03', '가솔린', '11만km', '1090만원'],\n",
       " ['기아 K5 2.0 LPi 프레스티지', '5', '144', '11/04', 'LPG', '16만km', '750만원'],\n",
       " ['현대 LF쏘나타 2.0 LPi 모던', '5', '151', '14/05', 'LPG', '19만km', '696만원'],\n",
       " ['현대 그랜드스타렉스 12인승 어린이 보호차량', '12', '175', '11/04', '디젤', '12만km', '755만원'],\n",
       " ['제네시스 더 올 뉴 G80 3.5 T-GDi AWD',\n",
       "  '5',\n",
       "  '380',\n",
       "  '20/04',\n",
       "  '가솔린',\n",
       "  '1천km',\n",
       "  '7950만원'],\n",
       " ['기아 올 뉴 카니발 3.3 GDi 7인승 하이리무진 프레지던트',\n",
       "  '7',\n",
       "  '280',\n",
       "  '15/11',\n",
       "  '가솔린',\n",
       "  '4만km',\n",
       "  '3750만원'],\n",
       " ['현대 그랜드스타렉스 캠핑카', 0, '174', '17/04', '디젤', '8만km', '3670만원'],\n",
       " ['현대 아반떼AD 1.6 GDi 모던 스페셜', '5', '132', '16/11', '가솔린', '3만km', '1350만원'],\n",
       " ['GM대우 토스카 2.0 CDX 가솔린 고급형', 0, 0, '06/08', '가솔린', '18만km', '290만원'],\n",
       " ['현대 i30 1.6 VVT 럭셔리', '5', '124', '08/07', '가솔린', '12만km', '340만원'],\n",
       " ['기아 더 뉴 쏘렌토 2.2 디젤 2WD 마스터 스페셜',\n",
       "  '5',\n",
       "  '202',\n",
       "  '19/02',\n",
       "  '디젤',\n",
       "  '1만km',\n",
       "  '2990만원'],\n",
       " ['쌍용 뉴 체어맨W V8 5000 VVIP', '5', '306', '14/09', '가솔린', '8만km', '2250만원'],\n",
       " ['기아 K7 하이브리드 700h 프레스티지', '5', '199', '14/08', '가솔린+전기', '13만km', '1350만원'],\n",
       " ['르노삼성 뉴 SM5 SE', '5', '141', '10/05', '가솔린', '16만km', '320만원'],\n",
       " ['기아 레토나 밴', '2', 0, '00/02', '디젤', '19만km', '250만원'],\n",
       " ['기아 프라이드 1.3 5도어 GLXI', '5', '73', '96/06', '가솔린', '20만km', '190만원'],\n",
       " ['기아 더 뉴 스포티지R 2.0 디젤 2WD 프레스티지',\n",
       "  '5',\n",
       "  '184',\n",
       "  '13/11',\n",
       "  '디젤',\n",
       "  '13만km',\n",
       "  '1090만원'],\n",
       " ['쌍용 액티언 CX5 4WD 고급형', '5', '145', '06/10', '디젤', '19만km', '300만원'],\n",
       " ['제네시스 G90 5.0 GDi AWD 프레스티지', '5', '425', '20/06', '가솔린', '9천km', '9200만원'],\n",
       " ['쌍용 렉스턴 스포츠 칸 2.2 디젤 4WD 프로페셔널 X',\n",
       "  0,\n",
       "  '181',\n",
       "  '19/03',\n",
       "  '디젤',\n",
       "  '2만km',\n",
       "  '2750만원'],\n",
       " ['현대 그랜져IG 2.2 e-VGT 프리미엄 스페셜', '5', '202', '17/02', '디젤', '9만km', '2710만원'],\n",
       " ['GM대우 뉴 라보 스낵카 롱카고', 0, 0, '15/11', 'LPG', '1만km', '계약'],\n",
       " ['르노삼성 뉴 SM3 SE 플러스', '5', '117', '12/03', '가솔린', '8만km', '350만원'],\n",
       " ['쌍용 뉴체어맨 CM500S 마제스티S', '5', '197', '07/08', '가솔린', '11만km', '199만원'],\n",
       " ['르노삼성 SM7 뉴 아트 LE23', '5', '170', '08/09', '가솔린', '12만km', '465만원'],\n",
       " ['기아 쏘울 1.6 2U 고급형', '5', '124', '09/02', '가솔린', '13만km', '399만원'],\n",
       " ['기아 뉴 프라이드 1.6 CVVT 5도어 SLX', '5', '112', '08/07', '가솔린', '10만km', '250만원'],\n",
       " ['기아 올 뉴 쏘렌토 2.0 디젤 2WD 노블레스 스페셜',\n",
       "  '5',\n",
       "  '186',\n",
       "  '16/06',\n",
       "  '디젤',\n",
       "  '15만km',\n",
       "  '1690만원'],\n",
       " ['쉐보레 더 뉴 스파크 1.0 프리미어', '5', '75', '19/08', '가솔린', '6천km', '1150만원'],\n",
       " ['현대 제네시스 쿠페 200 터보 P', '4', '210', '10/07', '가솔린', '8만km', '750만원'],\n",
       " ['GM대우 라세티 프리미어 디젤 CDX 블루 & 블랙 에디션', 0, 0, '10/01', '디젤', '10만km', '399만원'],\n",
       " ['듀오탑 이동업무차', 0, '145', '19/11', '디젤', '8천km', '5450만원'],\n",
       " ['현대 포터2 캠핑카', 0, '133', '19/03', '디젤', '1만km', '4400만원'],\n",
       " ['현대 스텔라 1.5 GX', '5', 0, '88/04', '가솔린', '12만km', '700만원'],\n",
       " ['현대 뉴 제네시스 G380 파이니스트 에디션 AWD',\n",
       "  '5',\n",
       "  '315',\n",
       "  '15/07',\n",
       "  '가솔린',\n",
       "  '11만km',\n",
       "  '2730만원'],\n",
       " ['밴텍 네오 S5인 오토 캠핑카', 0, '174', '08/05', '디젤', '10만km', '3450만원'],\n",
       " ['현대 갤로퍼 롱바디 인터쿨러 엑시드 7인승', '7', '100', '94/11', '디젤', '21만km', '1700만원'],\n",
       " ['현대 그랜드스타렉스 WAGON 12인승 CVX 럭셔리',\n",
       "  '12',\n",
       "  '174',\n",
       "  '09/02',\n",
       "  '디젤',\n",
       "  '11만km',\n",
       "  '1090만원'],\n",
       " ['기아 K5 2.0 가솔린 MX 스타일 에디션', '5', '168', '17/12', '가솔린', '7만km', '1790만원'],\n",
       " ['현대 아반떼AD 1.6 T-GDi 스포츠 M/T', '5', '204', '16/11', '가솔린', '2만km', '1270만원'],\n",
       " ['현대 올 뉴 투싼 2.0 E-VGT 2WD 스타일', '5', '186', '15/12', '디젤', '13만km', '970만원'],\n",
       " ['기아 K7 VG270 LPI 프레스티지', '5', '165', '10/07', 'LPG', '16만km', '650만원'],\n",
       " ['르노삼성 SM7 뉴 아트 프레스티지', '5', '170', '09/08', '가솔린', '18만km', '450만원'],\n",
       " ['현대 올 뉴 마이티 2.5톤 슈퍼캡 장축고상', 0, 0, '15/08', '디젤', '2만km', '3790만원'],\n",
       " ['기아 K5 2.0 럭셔리', '5', '172', '12/05', '가솔린', '15만km', '550만원'],\n",
       " ['현대 뉴 제네시스 G330 프리미엄 AWD', '5', '282', '15/08', '가솔린', '8만km', '2690만원'],\n",
       " ['제네시스 G90 5.0 GDi AWD 프레스티지', '5', '425', '20/01', '가솔린', '2만km', '9200만원'],\n",
       " ['현대 팰리세이드 2.2 디젤 4WD 프레스티지', '8', '202', '19/01', '디젤', '2만km', '4380만원'],\n",
       " ['제네시스 G70 2.2 디젤 AWD 엘리트', '5', '202', '19/08', '디젤', '2만km', '팔림'],\n",
       " ['현대 LF쏘나타 2.0 T-GDi 익스클루시브', '5', '245', '15/03', '가솔린', '10만km', '팔림'],\n",
       " ['기아 K3 쿱 1.6 T-GDi 노블레스', '5', '204', '14/07', '가솔린', '6만km', '670만원'],\n",
       " ['현대 제네시스 쿠페 200 터보 R', '4', '210', '11/03', '가솔린', '17만km', '530만원'],\n",
       " ['현대 아반떼MD M16 GDi 디럭스', '5', '140', '11/03', '가솔린', '8만km', '490만원'],\n",
       " ['기아 포르테 해치백 1.6 GDI 디럭스', '5', '140', '12/05', '가솔린', '14만km', '290만원'],\n",
       " ['GM대우 윈스톰 LS 7인승 2WD 기본형', '7', '150', '08/03', '디젤', '22만km', '200만원'],\n",
       " ['현대 그랜드스타렉스 캠핑카', 0, '174', '08/06', '디젤', '18만km', '1150만원'],\n",
       " ['현대 그랜져HG 300 LPG 모던', '5', '235', '13/07', 'LPG', '14만km', '970만원'],\n",
       " ['현대 제네시스 쿠페 380 GT P', '4', '303', '08/10', '가솔린', '13만km', '730만원'],\n",
       " ['제일모빌 쏠라티 이동업무차', 0, 0, '17/12', '디젤', '1만km', '7490만원'],\n",
       " ['아트원 글로밴 리무진', '9', '280', '17/11', '가솔린', '3만km', '4090만원'],\n",
       " ['제네시스 EQ900 3.8 GDi AWD 프레스티지', '5', '315', '17/01', '가솔린', '11만km', '팔림'],\n",
       " ['쌍용 코란도 스포츠 CX7 4WD 패션', '5', '155', '14/04', '디젤', '11만km', '1190만원'],\n",
       " ['현대 벨로스터 익스트림 터보', '4', '204', '12/10', '가솔린', '12만km', '790만원'],\n",
       " ['기아 그랜드카니발 GLX 고급형', '11', '192', '09/05', '디젤', '11만km', '보류'],\n",
       " ['GM대우 마티즈 크리에이티브 재즈 일반형', '5', '70', '10/07', '가솔린', '4만km', '320만원'],\n",
       " ['기아 모하비 KV300 4WD', '7', '260', '14/03', '디젤', '10만km', '2050만원'],\n",
       " ['기아 레이 1.0 가솔린 디럭스', '5', '78', '14/11', '가솔린', '7만km', '560만원'],\n",
       " ['제네시스 GV80 2.5 T-GDi AWD 7인승',\n",
       "  '7',\n",
       "  '304',\n",
       "  '20/04',\n",
       "  '가솔린',\n",
       "  '300km',\n",
       "  '7500만원'],\n",
       " ['현대 올 뉴 투싼 2.0 E-VGT 2WD 모던', '5', '186', '18/02', '디젤', '4만km', '2050만원'],\n",
       " ['현대 제네시스 BH380 로얄 VIP 팩', '5', '290', '08/03', '가솔린', '25만km', '팔림'],\n",
       " ['기아 K5 2.0 터보 프레스티지', '5', '271', '11/10', '가솔린', '13만km', '팔림'],\n",
       " ['르노삼성 SM7 뉴 아트 LE23', '5', '170', '08/06', '가솔린', '13만km', '395만원'],\n",
       " ['기아 그랜드카니발 GX 그랜드팩', '11', '170', '08/05', '디젤', '19만km', '370만원'],\n",
       " ['현대 테라칸 2.5 인터쿨러 디젤 JX250 4WD 고급형',\n",
       "  '7',\n",
       "  '103',\n",
       "  '02/03',\n",
       "  '디젤',\n",
       "  '23만km',\n",
       "  '490만원'],\n",
       " ['쌍용 코란도 스포츠 CX7 4WD 패션', '5', '155', '12/11', '디젤', '10만km', '1330만원'],\n",
       " ['기아 올 뉴 카니발 2.2 디젤 9인승 럭셔리', '9', '202', '17/04', '디젤', '5만km', '2050만원'],\n",
       " ['현대 그랜드스타렉스 WAGON 11인승 4WD 모던 스페셜',\n",
       "  0,\n",
       "  '175',\n",
       "  '16/01',\n",
       "  '디젤',\n",
       "  '6만km',\n",
       "  '1850만원'],\n",
       " ['제네시스 G80 3.3 T-GDi AWD 스포츠', '5', '370', '19/03', '가솔린', '2만km', '5500만원'],\n",
       " ['현대 RB버스 520', 0, 0, '91/01', '디젤', '6만km', '1500만원'],\n",
       " ['현대 LF쏘나타 2.4 GDi 익스클루시브', '5', '193', '14/04', '가솔린', '13만km', '1270만원'],\n",
       " ['현대 아반떼AD 1.6 T-GDi 스포츠 M/T', '5', '204', '17/02', '가솔린', '5만km', '1250만원'],\n",
       " ['기아 K5 2.0 디럭스', '5', '165', '11/07', '가솔린', '9만km', '300만원'],\n",
       " ['쉐보레 크루즈 2.0 LTZ 플러스', '5', '163', '14/06', '디젤', '11만km', '460만원'],\n",
       " ['쉐보레 더 뉴 스파크 1.0 LT', '5', '75', '18/11', '가솔린', '1만km', '850만원'],\n",
       " ['르노삼성 SM3 네오 SE 플러스', '5', '117', '14/06', '가솔린', '12만km', '530만원'],\n",
       " ['현대 그레이스 LPG 15인승 그랜드 살롱', '15', 0, '02/03', 'LPG', '13만km', '계약'],\n",
       " ['현대 아반떼MD M16 GDi 스마트', '5', '140', '13/04', '가솔린', '4만km', '700만원'],\n",
       " ['기아 올 뉴 카니발 2.2 디젤 7인승 리무진 VIP',\n",
       "  '7',\n",
       "  '202',\n",
       "  '15/09',\n",
       "  '디젤',\n",
       "  '13만km',\n",
       "  '2290만원']]"
      ]
     },
     "execution_count": 22,
     "metadata": {},
     "output_type": "execute_result"
    }
   ],
   "source": [
    "cars_data_total"
   ]
  },
  {
   "cell_type": "markdown",
   "metadata": {},
   "source": [
    "### 추출한 데이터를 데이터프레임에 저장"
   ]
  },
  {
   "cell_type": "code",
   "execution_count": 23,
   "metadata": {},
   "outputs": [],
   "source": [
    "data = pd.DataFrame(cars_data_total, columns=['차량명', '인승', '마력', '연료', '연식', '주행', '가격'])"
   ]
  },
  {
   "cell_type": "code",
   "execution_count": 24,
   "metadata": {},
   "outputs": [
    {
     "data": {
      "text/html": [
       "<div>\n",
       "<style scoped>\n",
       "    .dataframe tbody tr th:only-of-type {\n",
       "        vertical-align: middle;\n",
       "    }\n",
       "\n",
       "    .dataframe tbody tr th {\n",
       "        vertical-align: top;\n",
       "    }\n",
       "\n",
       "    .dataframe thead th {\n",
       "        text-align: right;\n",
       "    }\n",
       "</style>\n",
       "<table border=\"1\" class=\"dataframe\">\n",
       "  <thead>\n",
       "    <tr style=\"text-align: right;\">\n",
       "      <th></th>\n",
       "      <th>차량명</th>\n",
       "      <th>인승</th>\n",
       "      <th>마력</th>\n",
       "      <th>연료</th>\n",
       "      <th>연식</th>\n",
       "      <th>주행</th>\n",
       "      <th>가격</th>\n",
       "    </tr>\n",
       "  </thead>\n",
       "  <tbody>\n",
       "    <tr>\n",
       "      <th>0</th>\n",
       "      <td>기아 더 뉴 모닝 밴 고급형</td>\n",
       "      <td>2</td>\n",
       "      <td>78</td>\n",
       "      <td>16/09</td>\n",
       "      <td>가솔린</td>\n",
       "      <td>7만km</td>\n",
       "      <td>398만원</td>\n",
       "    </tr>\n",
       "    <tr>\n",
       "      <th>1</th>\n",
       "      <td>맥스 카니발 리무진</td>\n",
       "      <td>9</td>\n",
       "      <td>280</td>\n",
       "      <td>16/12</td>\n",
       "      <td>가솔린</td>\n",
       "      <td>5만km</td>\n",
       "      <td>3490만원</td>\n",
       "    </tr>\n",
       "    <tr>\n",
       "      <th>2</th>\n",
       "      <td>현대 싼타페DM 2.0 VGT 2WD 프리미엄</td>\n",
       "      <td>0</td>\n",
       "      <td>184</td>\n",
       "      <td>15/04</td>\n",
       "      <td>디젤</td>\n",
       "      <td>15만km</td>\n",
       "      <td>1990만원</td>\n",
       "    </tr>\n",
       "    <tr>\n",
       "      <th>3</th>\n",
       "      <td>현대 아반떼AD 1.6 T-GDi 스포츠 M/T</td>\n",
       "      <td>5</td>\n",
       "      <td>204</td>\n",
       "      <td>17/06</td>\n",
       "      <td>가솔린</td>\n",
       "      <td>7만km</td>\n",
       "      <td>1750만원</td>\n",
       "    </tr>\n",
       "    <tr>\n",
       "      <th>4</th>\n",
       "      <td>기아 더 프레스티지 K7 3.0 LPi 프레스티지</td>\n",
       "      <td>5</td>\n",
       "      <td>235</td>\n",
       "      <td>12/03</td>\n",
       "      <td>LPG</td>\n",
       "      <td>14만km</td>\n",
       "      <td>1000만원</td>\n",
       "    </tr>\n",
       "    <tr>\n",
       "      <th>...</th>\n",
       "      <td>...</td>\n",
       "      <td>...</td>\n",
       "      <td>...</td>\n",
       "      <td>...</td>\n",
       "      <td>...</td>\n",
       "      <td>...</td>\n",
       "      <td>...</td>\n",
       "    </tr>\n",
       "    <tr>\n",
       "      <th>95</th>\n",
       "      <td>쉐보레 더 뉴 스파크 1.0 LT</td>\n",
       "      <td>5</td>\n",
       "      <td>75</td>\n",
       "      <td>18/11</td>\n",
       "      <td>가솔린</td>\n",
       "      <td>1만km</td>\n",
       "      <td>850만원</td>\n",
       "    </tr>\n",
       "    <tr>\n",
       "      <th>96</th>\n",
       "      <td>르노삼성 SM3 네오 SE 플러스</td>\n",
       "      <td>5</td>\n",
       "      <td>117</td>\n",
       "      <td>14/06</td>\n",
       "      <td>가솔린</td>\n",
       "      <td>12만km</td>\n",
       "      <td>530만원</td>\n",
       "    </tr>\n",
       "    <tr>\n",
       "      <th>97</th>\n",
       "      <td>현대 그레이스 LPG 15인승 그랜드 살롱</td>\n",
       "      <td>15</td>\n",
       "      <td>0</td>\n",
       "      <td>02/03</td>\n",
       "      <td>LPG</td>\n",
       "      <td>13만km</td>\n",
       "      <td>계약</td>\n",
       "    </tr>\n",
       "    <tr>\n",
       "      <th>98</th>\n",
       "      <td>현대 아반떼MD M16 GDi 스마트</td>\n",
       "      <td>5</td>\n",
       "      <td>140</td>\n",
       "      <td>13/04</td>\n",
       "      <td>가솔린</td>\n",
       "      <td>4만km</td>\n",
       "      <td>700만원</td>\n",
       "    </tr>\n",
       "    <tr>\n",
       "      <th>99</th>\n",
       "      <td>기아 올 뉴 카니발 2.2 디젤 7인승 리무진 VIP</td>\n",
       "      <td>7</td>\n",
       "      <td>202</td>\n",
       "      <td>15/09</td>\n",
       "      <td>디젤</td>\n",
       "      <td>13만km</td>\n",
       "      <td>2290만원</td>\n",
       "    </tr>\n",
       "  </tbody>\n",
       "</table>\n",
       "<p>100 rows × 7 columns</p>\n",
       "</div>"
      ],
      "text/plain": [
       "                              차량명  인승   마력     연료   연식     주행      가격\n",
       "0                 기아 더 뉴 모닝 밴 고급형   2   78  16/09  가솔린   7만km   398만원\n",
       "1                      맥스 카니발 리무진   9  280  16/12  가솔린   5만km  3490만원\n",
       "2       현대 싼타페DM 2.0 VGT 2WD 프리미엄   0  184  15/04   디젤  15만km  1990만원\n",
       "3      현대 아반떼AD 1.6 T-GDi 스포츠 M/T   5  204  17/06  가솔린   7만km  1750만원\n",
       "4     기아 더 프레스티지 K7 3.0 LPi 프레스티지   5  235  12/03  LPG  14만km  1000만원\n",
       "..                            ...  ..  ...    ...  ...    ...     ...\n",
       "95             쉐보레 더 뉴 스파크 1.0 LT   5   75  18/11  가솔린   1만km   850만원\n",
       "96             르노삼성 SM3 네오 SE 플러스   5  117  14/06  가솔린  12만km   530만원\n",
       "97        현대 그레이스 LPG 15인승 그랜드 살롱  15    0  02/03  LPG  13만km      계약\n",
       "98           현대 아반떼MD M16 GDi 스마트   5  140  13/04  가솔린   4만km   700만원\n",
       "99  기아 올 뉴 카니발 2.2 디젤 7인승 리무진 VIP   7  202  15/09   디젤  13만km  2290만원\n",
       "\n",
       "[100 rows x 7 columns]"
      ]
     },
     "execution_count": 24,
     "metadata": {},
     "output_type": "execute_result"
    }
   ],
   "source": [
    "data"
   ]
  }
 ],
 "metadata": {
  "kernelspec": {
   "display_name": "Python 3",
   "language": "python",
   "name": "python3"
  },
  "language_info": {
   "codemirror_mode": {
    "name": "ipython",
    "version": 3
   },
   "file_extension": ".py",
   "mimetype": "text/x-python",
   "name": "python",
   "nbconvert_exporter": "python",
   "pygments_lexer": "ipython3",
   "version": "3.7.6"
  }
 },
 "nbformat": 4,
 "nbformat_minor": 4
}
